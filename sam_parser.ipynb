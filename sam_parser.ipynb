{
 "cells": [
  {
   "cell_type": "code",
   "execution_count": 45,
   "metadata": {
    "collapsed": false
   },
   "outputs": [
    {
     "name": "stdout",
     "output_type": "stream",
     "text": [
      "['M00785:2:000000000-A60JC:1:1101:14942:1516', '16', 'rAAV_RSV_GFP', '1773', '60', '151M', '*', '0', '0', 'GTAATATAGGCGGCCGCTTCGAGCAGACATGATAAGATACATTGATGAGTTTGGACAAACCACAACTAGAATGCAGTGAAAAAAATGCTTTATTTGTGAAATTTGTGATGCTATTGCTTTATTTGTAACCATTATAAGCTGCAATAAACAA', '@2@@1@/?<//<<//>/0//FF>1F@B1F2FF2HGEB2B2B1@BB1@B?1121@B/F?B//D1FD22FAFB1F1GA2FEGHHHHD1A1111B012B2FGGFCGAB1AD1B11B01A111FB1DBG1FD13B33F1GB113B3FD3FAA1A>', 'NM:i:0', 'MD:Z:151', 'AS:i:151', 'XS:i:0']\n"
     ]
    },
    {
     "ename": "ValueError",
     "evalue": "invalid literal for int() with base 10: 'rAAV_RSV_GFP'",
     "output_type": "error",
     "traceback": [
      "\u001b[1;31m---------------------------------------------------------------------------\u001b[0m",
      "\u001b[1;31mValueError\u001b[0m                                Traceback (most recent call last)",
      "\u001b[1;32m<ipython-input-45-b18a49077a98>\u001b[0m in \u001b[0;36m<module>\u001b[1;34m()\u001b[0m\n\u001b[0;32m     79\u001b[0m \u001b[1;33m\u001b[0m\u001b[0m\n\u001b[0;32m     80\u001b[0m         \u001b[1;31m# Process the first sequence found when parsing header\u001b[0m\u001b[1;33m\u001b[0m\u001b[1;33m\u001b[0m\u001b[0m\n\u001b[1;32m---> 81\u001b[1;33m         \u001b[0ma\u001b[0m \u001b[1;33m=\u001b[0m \u001b[0mAlignedSequence\u001b[0m\u001b[1;33m(\u001b[0m\u001b[0mline\u001b[0m\u001b[1;33m)\u001b[0m\u001b[1;33m\u001b[0m\u001b[0m\n\u001b[0m\u001b[0;32m     82\u001b[0m         \u001b[0mbam\u001b[0m\u001b[1;33m.\u001b[0m\u001b[0mwrite\u001b[0m\u001b[1;33m(\u001b[0m\u001b[0mAlignedSequence\u001b[0m\u001b[1;33m.\u001b[0m\u001b[0mto_bam\u001b[0m\u001b[1;33m)\u001b[0m\u001b[1;33m\u001b[0m\u001b[0m\n\u001b[0;32m     83\u001b[0m \u001b[1;33m\u001b[0m\u001b[0m\n",
      "\u001b[1;32m<ipython-input-45-b18a49077a98>\u001b[0m in \u001b[0;36m__init__\u001b[1;34m(self, line)\u001b[0m\n\u001b[0;32m     23\u001b[0m         \u001b[0mself\u001b[0m\u001b[1;33m.\u001b[0m\u001b[0ma\u001b[0m\u001b[1;33m.\u001b[0m\u001b[0mquery_name\u001b[0m \u001b[1;33m=\u001b[0m \u001b[0msplit_line\u001b[0m\u001b[1;33m[\u001b[0m\u001b[1;36m0\u001b[0m\u001b[1;33m]\u001b[0m\u001b[1;33m\u001b[0m\u001b[0m\n\u001b[0;32m     24\u001b[0m         \u001b[0mself\u001b[0m\u001b[1;33m.\u001b[0m\u001b[0ma\u001b[0m\u001b[1;33m.\u001b[0m\u001b[0mquery_sequence\u001b[0m \u001b[1;33m=\u001b[0m \u001b[0msplit_line\u001b[0m\u001b[1;33m[\u001b[0m\u001b[1;36m1\u001b[0m\u001b[1;33m]\u001b[0m\u001b[1;33m\u001b[0m\u001b[0m\n\u001b[1;32m---> 25\u001b[1;33m         \u001b[0mself\u001b[0m\u001b[1;33m.\u001b[0m\u001b[0ma\u001b[0m\u001b[1;33m.\u001b[0m\u001b[0mflag\u001b[0m \u001b[1;33m=\u001b[0m \u001b[0mint\u001b[0m\u001b[1;33m(\u001b[0m\u001b[0msplit_line\u001b[0m\u001b[1;33m[\u001b[0m\u001b[1;36m2\u001b[0m\u001b[1;33m]\u001b[0m\u001b[1;33m)\u001b[0m\u001b[1;33m\u001b[0m\u001b[0m\n\u001b[0m\u001b[0;32m     26\u001b[0m         \u001b[0mself\u001b[0m\u001b[1;33m.\u001b[0m\u001b[0ma\u001b[0m\u001b[1;33m.\u001b[0m\u001b[0mreference_id\u001b[0m \u001b[1;33m=\u001b[0m \u001b[0mint\u001b[0m\u001b[1;33m(\u001b[0m\u001b[0msplit_line\u001b[0m\u001b[1;33m[\u001b[0m\u001b[1;36m3\u001b[0m\u001b[1;33m]\u001b[0m\u001b[1;33m)\u001b[0m\u001b[1;33m\u001b[0m\u001b[0m\n\u001b[0;32m     27\u001b[0m         \u001b[0mself\u001b[0m\u001b[1;33m.\u001b[0m\u001b[0ma\u001b[0m\u001b[1;33m.\u001b[0m\u001b[0mreference_start\u001b[0m \u001b[1;33m=\u001b[0m \u001b[0mint\u001b[0m\u001b[1;33m(\u001b[0m\u001b[0msplit_line\u001b[0m\u001b[1;33m[\u001b[0m\u001b[1;36m4\u001b[0m\u001b[1;33m]\u001b[0m\u001b[1;33m)\u001b[0m\u001b[1;33m\u001b[0m\u001b[0m\n",
      "\u001b[1;31mValueError\u001b[0m: invalid literal for int() with base 10: 'rAAV_RSV_GFP'"
     ]
    }
   ],
   "source": [
    "from pprint import pprint as pp\n",
    "import pysam\n",
    "from collections import OrderedDict\n",
    "import re\n",
    "\n",
    "class AlignedSequence (object):\n",
    "    \n",
    "    # Class Variables\n",
    "    CIGAR_TO_CODE = OrderedDict([('M', 0), ('I', 1), ('D', 2), ('N', 3), ('S', 4), ('H', 5), ('P', 6), ('=', 7), ('X', 8)])\n",
    "    CIGAR_REGEX = re.compile(\"(\\d+)([MIDNSHP=X])\")\n",
    "    \n",
    "    \n",
    "    def __init__ (self, line):\n",
    "        \n",
    "        split_line = line.strip().split(\"\\t\")\n",
    "        print split_line\n",
    "        assert len (split_line) >=  11, \"File format is not standard-compatible: Invalid aligned sequence field numbers\"\n",
    "        \n",
    "        # Init an empty AlignedSegment\n",
    "        self.a = pysam.AlignedSegment()\n",
    "        \n",
    "        # Fill the AlignedSegment fields ####################### INCORECT HERE\n",
    "        self.a.query_name = split_line[0]\n",
    "        self.a.query_sequence = split_line[1]\n",
    "        self.a.flag = int(split_line[2])\n",
    "        self.a.reference_id = int(split_line[3])\n",
    "        self.a.reference_start = int(split_line[4])\n",
    "        self.a.mapping_quality = int(split_line[5])\n",
    "        self.a.cigar = self.cigarstring_to_tuple(split_line[6])\n",
    "        self.a.next_reference_id = int(split_line[7])\n",
    "        self.a.next_reference_start = int(split_line[8])\n",
    "        self.a.template_length = int(split_line[9])\n",
    "        self.a.query_qualities = pysam.fromQualityString(split_line[10])\n",
    "        \n",
    "        # Parse the optional tag fields\n",
    "        #len (split_line) == 12:\n",
    "        #    a.tags = ((\"NM\", 1),\n",
    "        #              (\"RG\", \"L1\"))\n",
    "    \n",
    "    def cigarstring_to_tuple (self, cigarstring):\n",
    "        return tuple([(CIGAR_TO_CODE[y], int(x)) for x, y in CIGAR_REGEX.findall(cigarstring)])\n",
    "    \n",
    "    def to_bam (self):\n",
    "        return self.a\n",
    "\n",
    "    def to_fastq (self):\n",
    "        return self.a\n",
    "\n",
    "    \n",
    "with open (\"./test/sample.sam\", \"r\") as sam:\n",
    "    \n",
    "    # Parse bam header\n",
    "    header = {}\n",
    "    for line in sam:\n",
    "        if line.startswith(\"@\"):\n",
    "            split_line = line.strip().split(\"\\t\")\n",
    "            tag = split_line[0].lstrip(\"@\")\n",
    "            \n",
    "            if tag == \"HD\":\n",
    "                header[\"HD\"] = {}\n",
    "                for field in split_line[1:]:\n",
    "                    key, value = field.split(\":\")\n",
    "                    header[\"HD\"][key] = value\n",
    "            \n",
    "            else:\n",
    "                d={}\n",
    "                if tag not in header:\n",
    "                    header[tag]=[]\n",
    "                for field in split_line[1:]:\n",
    "                    key, value = field.split(\":\")\n",
    "                    d[key] = int(value) if value.isdigit() else value\n",
    "                header[tag].append(d)\n",
    "        \n",
    "        # Exit when at end of header\n",
    "        else:\n",
    "            break\n",
    "    \n",
    "    # Create an output bam file\n",
    "    with pysam.AlignmentFile(\"out.sam\", \"wh\", header=header) as bam:\n",
    "        \n",
    "        # Process the first sequence found when parsing header \n",
    "        a = AlignedSequence(line)\n",
    "        bam.write(AlignedSequence.to_bam)\n",
    "\n",
    "    \n",
    "    "
   ]
  },
  {
   "cell_type": "code",
   "execution_count": 39,
   "metadata": {
    "collapsed": false
   },
   "outputs": [
    {
     "data": {
      "text/plain": [
       "((0, 20), (1, 1), (0, 103), (4, 27))"
      ]
     },
     "execution_count": 39,
     "metadata": {},
     "output_type": "execute_result"
    }
   ],
   "source": [
    "from collections import OrderedDict\n",
    "import re\n",
    "\n",
    "CIGAR_TO_CODE = OrderedDict([('M', 0), ('I', 1), ('D', 2), ('N', 3), ('S', 4), ('H', 5), ('P', 6), ('=', 7), ('X', 8)])\n",
    "CIGAR_REGEX = re.compile(\"(\\d+)([MIDNSHP=X])\")\n",
    "\n",
    "\n",
    "\n",
    "cigarstring_to_tuple(\"20M1I103M27S\")"
   ]
  },
  {
   "cell_type": "code",
   "execution_count": null,
   "metadata": {
    "collapsed": true
   },
   "outputs": [],
   "source": [
    "\n",
    "\n",
    "\n",
    "\n",
    "\n",
    "\n",
    "\n",
    "\n",
    "\n",
    "\n",
    "\n",
    "\n",
    "\n",
    "\n",
    "\n",
    "\n",
    "\n",
    "\n",
    "\n",
    "\n",
    "\n",
    "\n",
    "\n",
    "\n",
    "\n"
   ]
  }
 ],
 "metadata": {
  "kernelspec": {
   "display_name": "Python 2",
   "language": "python",
   "name": "python2"
  },
  "language_info": {
   "codemirror_mode": {
    "name": "ipython",
    "version": 2
   },
   "file_extension": ".py",
   "mimetype": "text/x-python",
   "name": "python",
   "nbconvert_exporter": "python",
   "pygments_lexer": "ipython2",
   "version": "2.7.6"
  }
 },
 "nbformat": 4,
 "nbformat_minor": 0
}
